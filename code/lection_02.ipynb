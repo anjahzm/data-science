{
 "cells": [
  {
   "cell_type": "markdown",
   "id": "aa60bf4e",
   "metadata": {},
   "source": [
    "\n",
    "In diesem Megatutorial beschäftigen wir uns mit der explorativen Datenanalyse in Python.\n",
    "\n",
    "* Lade die Daten in `pandas`.\n",
    "* Führe eine deskriptive Datenanalyse mit geeigneten, statisches Maßen durch.\n",
    "* Führe eine deskriptive Datenanalyse mit Hilfe von geeigneten Visualisierungen durch.\n",
    "\n",
    "#Notes\n",
    "-wenn ich in ein Python Notebook eröffne, muss ich immer ein Kernel auswählen, in unserem Fall .venv (virtual environment)\n",
    "-ein ! am Beginn einer Codezelle, wird nicht von Python sondern vom Terminal ausgeführt\n",
    "-ich kann zum Beispiel eine Bibliothek mit !pip install direkt in mein venv installieren. \n"
   ]
  },
  {
   "cell_type": "code",
   "execution_count": 6,
   "id": "b304c7d5",
   "metadata": {},
   "outputs": [],
   "source": [
    "from pandas import read_csv"
   ]
  },
  {
   "cell_type": "code",
   "execution_count": null,
   "id": "b305f31f",
   "metadata": {},
   "outputs": [],
   "source": []
  }
 ],
 "metadata": {
  "kernelspec": {
   "display_name": ".venv",
   "language": "python",
   "name": "python3"
  },
  "language_info": {
   "codemirror_mode": {
    "name": "ipython",
    "version": 3
   },
   "file_extension": ".py",
   "mimetype": "text/x-python",
   "name": "python",
   "nbconvert_exporter": "python",
   "pygments_lexer": "ipython3",
   "version": "3.12.1"
  }
 },
 "nbformat": 4,
 "nbformat_minor": 5
}
